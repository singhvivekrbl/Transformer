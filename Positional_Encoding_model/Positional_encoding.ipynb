{
 "cells": [
  {
   "cell_type": "code",
   "execution_count": 1,
   "metadata": {},
   "outputs": [
    {
     "name": "stderr",
     "output_type": "stream",
     "text": [
      "c:\\Users\\singh\\anaconda3\\envs\\transformer_embedding\\lib\\site-packages\\tqdm\\auto.py:21: TqdmWarning: IProgress not found. Please update jupyter and ipywidgets. See https://ipywidgets.readthedocs.io/en/stable/user_install.html\n",
      "  from .autonotebook import tqdm as notebook_tqdm\n"
     ]
    }
   ],
   "source": [
    "import math\n",
    "import numpy as np  # Assuming numpy is imported as np\n",
    "from transformers import BertTokenizer  # Import BertTokenizer from Transformers"
   ]
  },
  {
   "cell_type": "code",
   "execution_count": 7,
   "metadata": {},
   "outputs": [],
   "source": [
    "def positional_encoding(position, d_model):\n",
    "    \"\"\"\n",
    "    Calculates positional encoding for a given position and embedding dimension\n",
    "\n",
    "    Args:\n",
    "        position: the position for which to calculate the encoding\n",
    "        d_model: the dimension of the embedding\n",
    "\n",
    "    returns:\n",
    "        A positional encoding vector of shape (d_model)\n",
    "    \"\"\"\n",
    "\n",
    "    if position not in range(0,d_model):\n",
    "        raise ValueError(\"Position not in valid range (0 to d_model-1)\")\n",
    "    \n",
    "    i = 0\n",
    "    while i<d_model:\n",
    "\n",
    "        div_term = 1.0/ (math.pow(10000.0, (2 * (i//2))/d_model))\n",
    "\n",
    "        if i % 2 == 0:\n",
    "            return math.sin(position * div_term)\n",
    "        else:\n",
    "            return math.cos(position * div_term)\n",
    "    \n",
    "\n",
    "def create_positional_encoding(max_len, d_model):\n",
    "    \"\"\"\n",
    "    Creates a positional encoding matrix for a given maximum sequence length\n",
    "\n",
    "    Args:\n",
    "        max_len : the maximum sequence length\n",
    "        d_model: the dimension of the embedding\n",
    "\n",
    "    Returns:\n",
    "        A positional encoding matrix of shape (max_len, d_model).\n",
    "    \"\"\"\n",
    "\n",
    "    pos_encoding = [positional_encoding(i,d_model) for i in range(max_len)]\n",
    "\n",
    "    return np.array([positional_encoding(i, d_model) for i in range(max_len)])# Add leading dimension for broadcasting\n",
    "\n",
    "\n"
   ]
  },
  {
   "cell_type": "code",
   "execution_count": 8,
   "metadata": {},
   "outputs": [
    {
     "ename": "ValueError",
     "evalue": "operands could not be broadcast together with shapes (12,768) (12,) ",
     "output_type": "error",
     "traceback": [
      "\u001b[1;31m---------------------------------------------------------------------------\u001b[0m",
      "\u001b[1;31mValueError\u001b[0m                                Traceback (most recent call last)",
      "Cell \u001b[1;32mIn[8], line 20\u001b[0m\n\u001b[0;32m     17\u001b[0m word_embeddings \u001b[38;5;241m=\u001b[39m np\u001b[38;5;241m.\u001b[39mrandom\u001b[38;5;241m.\u001b[39mrandn(max_len, d_model)\n\u001b[0;32m     19\u001b[0m \u001b[38;5;66;03m# combine word embedings and positional encodings\u001b[39;00m\n\u001b[1;32m---> 20\u001b[0m embeddings \u001b[38;5;241m=\u001b[39m  \u001b[43mword_embeddings\u001b[49m\u001b[43m \u001b[49m\u001b[38;5;241;43m+\u001b[39;49m\u001b[43m \u001b[49m\u001b[43mpos_encoding\u001b[49m\n\u001b[0;32m     22\u001b[0m \u001b[38;5;28mprint\u001b[39m(\u001b[38;5;124m\"\u001b[39m\u001b[38;5;124mExample document:\u001b[39m\u001b[38;5;124m\"\u001b[39m, document)\n\u001b[0;32m     23\u001b[0m \u001b[38;5;28mprint\u001b[39m(\u001b[38;5;124m\"\u001b[39m\u001b[38;5;124mtokenized document:\u001b[39m\u001b[38;5;124m\"\u001b[39m, tokenized_document)\n",
      "\u001b[1;31mValueError\u001b[0m: operands could not be broadcast together with shapes (12,768) (12,) "
     ]
    }
   ],
   "source": [
    "## Sample document\n",
    "document =  \"this is an example document for the positional encoding\"\n",
    "\n",
    "## load BERT tokenizer -  BERT-base-uncased\n",
    "tokenizer = BertTokenizer.from_pretrained('bert-base-uncased')\n",
    "\n",
    "## Tokenize the document\n",
    "tokenized_document = tokenizer.encode(document, add_special_tokens=True)\n",
    "\n",
    "max_len = len(tokenized_document)\n",
    "d_model = 768\n",
    "\n",
    "## create positional encoding matrix\n",
    "pos_encoding = create_positional_encoding(max_len, d_model)\n",
    "\n",
    "# placeholder for the word embeddings\n",
    "word_embeddings = np.random.randn(max_len, d_model)\n",
    "\n",
    "# combine word embedings and positional encodings\n",
    "embeddings =  word_embeddings + pos_encoding\n",
    "\n",
    "print(\"Example document:\", document)\n",
    "print(\"tokenized document:\", tokenized_document)\n",
    "print(\"Shape of word embedding:\", word_embeddings.shape)\n",
    "print(\"Shape of word embeddings:\", word_embeddings.shape)\n",
    "print(\"Shape of positional encodings:\", pos_encoding.shape)\n",
    "print(\"Shape of combined embeddings:\", embeddings.shape)"
   ]
  },
  {
   "cell_type": "code",
   "execution_count": null,
   "metadata": {},
   "outputs": [],
   "source": []
  }
 ],
 "metadata": {
  "kernelspec": {
   "display_name": "transformer_embedding",
   "language": "python",
   "name": "python3"
  },
  "language_info": {
   "codemirror_mode": {
    "name": "ipython",
    "version": 3
   },
   "file_extension": ".py",
   "mimetype": "text/x-python",
   "name": "python",
   "nbconvert_exporter": "python",
   "pygments_lexer": "ipython3",
   "version": "3.8.19"
  }
 },
 "nbformat": 4,
 "nbformat_minor": 2
}
